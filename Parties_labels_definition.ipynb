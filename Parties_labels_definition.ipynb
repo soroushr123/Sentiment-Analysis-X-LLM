{
 "cells": [
  {
   "cell_type": "markdown",
   "id": "bd2f9b4a",
   "metadata": {},
   "source": [
    "# Importing Libraries"
   ]
  },
  {
   "cell_type": "markdown",
   "id": "72ccda39",
   "metadata": {},
   "source": [
    "The libraries that are necessary to provide the dataframe for labelling the tweets:"
   ]
  },
  {
   "cell_type": "code",
   "execution_count": 3,
   "id": "5ae6c938",
   "metadata": {},
   "outputs": [],
   "source": [
    "import pandas as pd\n",
    "import numpy as np\n",
    "import json\n",
    "import re"
   ]
  },
  {
   "cell_type": "markdown",
   "id": "684bc0ff",
   "metadata": {},
   "source": [
    "# Preparation"
   ]
  },
  {
   "cell_type": "markdown",
   "id": "f0447418",
   "metadata": {},
   "source": [
    "the general idea of providing such a list is to search through a certain list of keywords into the original data set from Twitter to be able to define which tweet is related to which political party. for example If a tweet has the hashtag for **Justin Trudeau** or liberal or any other liberal parliament members, then that tweet would most likely is talking about something related to liberal post party.\n",
    "\n",
    "based on the mentioned assumption we use the following link which is the official website for the parliamentarian information of Canada from the link below:\n",
    "\n",
    "https://lop.parl.ca/sites/ParlInfo/default/en_CA/People/parliamentarians\n",
    "\n",
    "and download the list of all politician from all the parties since the beginning of the parliament of Canada establishment. the assumption is if any of the tweets for our data sets contain any name or any combination of any of the politicians any of the parties then that tweet is most likely to be related or talking about that political party.Thus, the label for that row of data we'll be assigned to that party for the next steps.\n",
    "\n",
    "As mentioned before, the main purpose of this project is to work only with the top three political parties in Canada which are Liberals, Conservatives, and NDP. as a result we only kept the rows for the mentioned parties make different combinations of their names, surnames, full name, and some other widely used regular words including \"liberal\", \"conservative\", \"ndp\" in our final dataset for labeling."
   ]
  },
  {
   "cell_type": "code",
   "execution_count": 5,
   "id": "e1067127",
   "metadata": {},
   "outputs": [],
   "source": [
    "# Importing raw dataset\n",
    "politician_info = pd.read_csv('Data/Parliamentarians.csv')"
   ]
  },
  {
   "cell_type": "code",
   "execution_count": 6,
   "id": "edebe877",
   "metadata": {},
   "outputs": [
    {
     "name": "stderr",
     "output_type": "stream",
     "text": [
      "C:\\Users\\sorou\\AppData\\Local\\Temp\\ipykernel_18208\\1735001429.py:2: SettingWithCopyWarning: \n",
      "A value is trying to be set on a copy of a slice from a DataFrame.\n",
      "Try using .loc[row_indexer,col_indexer] = value instead\n",
      "\n",
      "See the caveats in the documentation: https://pandas.pydata.org/pandas-docs/stable/user_guide/indexing.html#returning-a-view-versus-a-copy\n",
      "  parties_keywords['Name'] = parties_keywords['Name'].str.lower()\n",
      "C:\\Users\\sorou\\AppData\\Local\\Temp\\ipykernel_18208\\1735001429.py:3: SettingWithCopyWarning: \n",
      "A value is trying to be set on a copy of a slice from a DataFrame.\n",
      "Try using .loc[row_indexer,col_indexer] = value instead\n",
      "\n",
      "See the caveats in the documentation: https://pandas.pydata.org/pandas-docs/stable/user_guide/indexing.html#returning-a-view-versus-a-copy\n",
      "  parties_keywords['Political Affiliation'] = parties_keywords['Political Affiliation'].str.lower()\n",
      "C:\\Users\\sorou\\AppData\\Local\\Temp\\ipykernel_18208\\1735001429.py:7: SettingWithCopyWarning: \n",
      "A value is trying to be set on a copy of a slice from a DataFrame.\n",
      "Try using .loc[row_indexer,col_indexer] = value instead\n",
      "\n",
      "See the caveats in the documentation: https://pandas.pydata.org/pandas-docs/stable/user_guide/indexing.html#returning-a-view-versus-a-copy\n",
      "  parties_keywords['party'] = 0\n",
      "C:\\Users\\sorou\\AppData\\Local\\Temp\\ipykernel_18208\\1735001429.py:8: SettingWithCopyWarning: \n",
      "A value is trying to be set on a copy of a slice from a DataFrame\n",
      "\n",
      "See the caveats in the documentation: https://pandas.pydata.org/pandas-docs/stable/user_guide/indexing.html#returning-a-view-versus-a-copy\n",
      "  parties_keywords['party'][parties_keywords['Political Affiliation'].str.contains('democratic')] = 'ndp'\n",
      "C:\\Users\\sorou\\AppData\\Local\\Temp\\ipykernel_18208\\1735001429.py:9: SettingWithCopyWarning: \n",
      "A value is trying to be set on a copy of a slice from a DataFrame\n",
      "\n",
      "See the caveats in the documentation: https://pandas.pydata.org/pandas-docs/stable/user_guide/indexing.html#returning-a-view-versus-a-copy\n",
      "  parties_keywords['party'][parties_keywords['Political Affiliation'].str.contains('conservative')] = 'conservative'\n",
      "C:\\Users\\sorou\\AppData\\Local\\Temp\\ipykernel_18208\\1735001429.py:10: SettingWithCopyWarning: \n",
      "A value is trying to be set on a copy of a slice from a DataFrame\n",
      "\n",
      "See the caveats in the documentation: https://pandas.pydata.org/pandas-docs/stable/user_guide/indexing.html#returning-a-view-versus-a-copy\n",
      "  parties_keywords['party'][parties_keywords['Political Affiliation'].str.contains('liberal')] = 'liberal'\n",
      "C:\\Users\\sorou\\AppData\\Local\\Temp\\ipykernel_18208\\1735001429.py:20: FutureWarning: The frame.append method is deprecated and will be removed from pandas in a future version. Use pandas.concat instead.\n",
      "  parties_keywords = parties_keywords.append(hashtags)\n",
      "C:\\Users\\sorou\\AppData\\Local\\Temp\\ipykernel_18208\\1735001429.py:44: FutureWarning: The frame.append method is deprecated and will be removed from pandas in a future version. Use pandas.concat instead.\n",
      "  parties_final = parties_final.append(hashName_temp, ignore_index= True)\n",
      "C:\\Users\\sorou\\AppData\\Local\\Temp\\ipykernel_18208\\1735001429.py:45: FutureWarning: The frame.append method is deprecated and will be removed from pandas in a future version. Use pandas.concat instead.\n",
      "  parties_final = parties_final.append(FullName_temp, ignore_index= True)\n",
      "C:\\Users\\sorou\\AppData\\Local\\Temp\\ipykernel_18208\\1735001429.py:46: FutureWarning: The frame.append method is deprecated and will be removed from pandas in a future version. Use pandas.concat instead.\n",
      "  parties_final = parties_final.append(LName_temp, ignore_index= True)\n"
     ]
    }
   ],
   "source": [
    "# Limit the dataset to name and political affiliation\n",
    "parties_keywords = politician_info[['Name','Political Affiliation']]\n",
    "parties_keywords['Name'] = parties_keywords['Name'].str.lower()\n",
    "parties_keywords['Political Affiliation'] = parties_keywords['Political Affiliation'].str.lower()\n",
    "parties_keywords.dropna()\n",
    "\n",
    "# Creating new feature name party and rename the palitical affiliation from the original dataset\n",
    "parties_keywords['party'] = 0\n",
    "parties_keywords['party'][parties_keywords['Political Affiliation'].str.contains('democratic')] = 'ndp'\n",
    "parties_keywords['party'][parties_keywords['Political Affiliation'].str.contains('conservative')] = 'conservative'\n",
    "parties_keywords['party'][parties_keywords['Political Affiliation'].str.contains('liberal')] = 'liberal'\n",
    "\n",
    "parties_keywords = parties_keywords[parties_keywords['party'] != 0]\n",
    "parties_keywords = parties_keywords[['Name','party']]\n",
    "\n",
    "\n",
    "# Adding most common and related words and to the dataset\n",
    "hashtags = {'Name' : ['cpc','lpc','ndp','liberal','liberals','conservative','conservatives','trudeau','harper','singh'],\n",
    "            'party' : ['conservative','liberal','ndp','liberal','liberal','conservative','conservative','liberal','conservarive','ndp']}\n",
    "hashtags = pd.DataFrame(hashtags)\n",
    "parties_keywords = parties_keywords.append(hashtags)\n",
    "parties_keywords.reset_index(inplace=True)\n",
    "parties_keywords.drop('index',axis = 1 ,inplace = True)\n",
    "\n",
    "\n",
    "# Make other combinations of parliament members name and surname\n",
    "# Including NameSurname, Surname, Name Surname\n",
    "test = parties_keywords\n",
    "test['FName'] = test['Name'].str.split(', ',n = 1, expand = True)[1]\n",
    "test['FName'] = test['FName'].str.split(' ', expand = True)[0]\n",
    "test['LName'] = test['Name'].str.split(', ',n = 1, expand = True)[0]\n",
    "test['LName'] = test['LName'].str.split(' ', expand = True)[0]\n",
    "test['hashName'] = test['FName'] + test['LName']\n",
    "test['FullName'] = test['FName'] + ' ' + test['LName']\n",
    "\n",
    "#keeping only the full name column and the political party\n",
    "parties_final = test[['Name', 'party']]\n",
    "hashName_temp = test[['hashName', 'party']]\n",
    "hashName_temp = hashName_temp.rename(columns={'hashName': 'Name'})\n",
    "FullName_temp = test[['FullName', 'party']]\n",
    "FullName_temp = FullName_temp.rename(columns={'FullName': 'Name'})\n",
    "LName_temp = test[['LName', 'party']]\n",
    "LName_temp = FullName_temp.rename(columns={'LName': 'Name'})\n",
    "\n",
    "# merging routine words and hashtags to the processed dataset\n",
    "parties_final = parties_final.append(hashName_temp, ignore_index= True)\n",
    "parties_final = parties_final.append(FullName_temp, ignore_index= True)\n",
    "parties_final = parties_final.append(LName_temp, ignore_index= True)\n",
    "\n",
    "\n",
    "# save the dataset for further analysis\n",
    "parties_final.dropna(inplace = True)\n",
    "parties_final.reset_index(drop=True, inplace=True)\n",
    "parties_final.to_csv('Data/parties_final.csv')"
   ]
  },
  {
   "cell_type": "code",
   "execution_count": null,
   "id": "f23f5a5c",
   "metadata": {},
   "outputs": [],
   "source": []
  }
 ],
 "metadata": {
  "kernelspec": {
   "display_name": "code",
   "language": "python",
   "name": "code"
  },
  "language_info": {
   "codemirror_mode": {
    "name": "ipython",
    "version": 3
   },
   "file_extension": ".py",
   "mimetype": "text/x-python",
   "name": "python",
   "nbconvert_exporter": "python",
   "pygments_lexer": "ipython3",
   "version": "3.10.5"
  }
 },
 "nbformat": 4,
 "nbformat_minor": 5
}
